{
 "cells": [
  {
   "cell_type": "code",
   "execution_count": 3,
   "id": "36d5f419",
   "metadata": {},
   "outputs": [],
   "source": [
    "import snscrape.modules.twitter as sntwitter\n",
    "import pandas as pd"
   ]
  },
  {
   "cell_type": "code",
   "execution_count": 2,
   "id": "fd85d7a1",
   "metadata": {
    "scrolled": true
   },
   "outputs": [
    {
     "name": "stdout",
     "output_type": "stream",
     "text": [
      "Requirement already satisfied: snscrape in c:\\users\\h p\\anaconda3\\anaconda 2022\\lib\\site-packages (0.4.3.20220107.dev73+gcbdaee6)\n",
      "Collecting snscrape\n",
      "  Downloading snscrape-0.5.0.20230113-py3-none-any.whl (69 kB)\n",
      "Requirement already satisfied: beautifulsoup4 in c:\\users\\h p\\anaconda3\\anaconda 2022\\lib\\site-packages (from snscrape) (4.11.1)\n",
      "Requirement already satisfied: filelock in c:\\users\\h p\\anaconda3\\anaconda 2022\\lib\\site-packages (from snscrape) (3.6.0)\n",
      "Requirement already satisfied: lxml in c:\\users\\h p\\anaconda3\\anaconda 2022\\lib\\site-packages (from snscrape) (4.8.0)\n",
      "Requirement already satisfied: requests[socks] in c:\\users\\h p\\anaconda3\\anaconda 2022\\lib\\site-packages (from snscrape) (2.27.1)\n",
      "Requirement already satisfied: soupsieve>1.2 in c:\\users\\h p\\anaconda3\\anaconda 2022\\lib\\site-packages (from beautifulsoup4->snscrape) (2.3.1)\n",
      "Requirement already satisfied: certifi>=2017.4.17 in c:\\users\\h p\\anaconda3\\anaconda 2022\\lib\\site-packages (from requests[socks]->snscrape) (2021.10.8)\n",
      "Requirement already satisfied: charset-normalizer~=2.0.0 in c:\\users\\h p\\anaconda3\\anaconda 2022\\lib\\site-packages (from requests[socks]->snscrape) (2.0.4)\n",
      "Requirement already satisfied: urllib3<1.27,>=1.21.1 in c:\\users\\h p\\anaconda3\\anaconda 2022\\lib\\site-packages (from requests[socks]->snscrape) (1.26.9)\n",
      "Requirement already satisfied: idna<4,>=2.5 in c:\\users\\h p\\anaconda3\\anaconda 2022\\lib\\site-packages (from requests[socks]->snscrape) (2.10)\n",
      "Requirement already satisfied: PySocks!=1.5.7,>=1.5.6 in c:\\users\\h p\\anaconda3\\anaconda 2022\\lib\\site-packages (from requests[socks]->snscrape) (1.7.1)\n",
      "Installing collected packages: snscrape\n",
      "  Attempting uninstall: snscrape\n",
      "    Found existing installation: snscrape 0.4.3.20220107.dev73+gcbdaee6\n",
      "    Uninstalling snscrape-0.4.3.20220107.dev73+gcbdaee6:\n",
      "      Successfully uninstalled snscrape-0.4.3.20220107.dev73+gcbdaee6\n",
      "Successfully installed snscrape-0.5.0.20230113\n"
     ]
    }
   ],
   "source": [
    "!pip3 install --upgrade snscrape"
   ]
  },
  {
   "cell_type": "code",
   "execution_count": 4,
   "id": "8ebd58ae",
   "metadata": {},
   "outputs": [],
   "source": [
    "pd.options.display.max_colwidth = 1000"
   ]
  },
  {
   "cell_type": "code",
   "execution_count": 19,
   "id": "53656f73",
   "metadata": {},
   "outputs": [
    {
     "name": "stdout",
     "output_type": "stream",
     "text": [
      "CPU times: total: 0 ns\n",
      "Wall time: 0 ns\n",
      "Mulai crawling\n"
     ]
    },
    {
     "name": "stderr",
     "output_type": "stream",
     "text": [
      "C:\\Users\\H P\\AppData\\Local\\Temp\\ipykernel_13236\\4048596858.py:11: FutureWarning: content is deprecated, use rawContent instead\n",
      "  tweets.append([tweet.date, tweet.user.username, tweet.content])\n"
     ]
    },
    {
     "name": "stdout",
     "output_type": "stream",
     "text": [
      "Selesai\n"
     ]
    }
   ],
   "source": [
    "query = \"(kuliah daring) lang:id until:2021-12-05 since:2021-11-01\"\n",
    "tweets = []\n",
    "limit = 1000\n",
    "%time\n",
    "try:\n",
    "    print(\"Mulai crawling\")\n",
    "    for tweet in sntwitter.TwitterSearchScraper(query=query).get_items():\n",
    "        if len(tweets) == limit:\n",
    "            break\n",
    "        else:\n",
    "            tweets.append([tweet.date, tweet.user.username, tweet.content])\n",
    "    df7 = pd.DataFrame(tweets, columns=['date','username','tweet'])\n",
    "except Exception as e:\n",
    "    print(e)\n",
    "    \n",
    "print(\"Selesai\")"
   ]
  },
  {
   "cell_type": "code",
   "execution_count": 20,
   "id": "58847066",
   "metadata": {},
   "outputs": [],
   "source": [
    "df7\n",
    "df7.to_csv('./SK7.csv', index=False)"
   ]
  },
  {
   "cell_type": "code",
   "execution_count": 21,
   "id": "9da2b136",
   "metadata": {},
   "outputs": [
    {
     "name": "stdout",
     "output_type": "stream",
     "text": [
      "CPU times: total: 0 ns\n",
      "Wall time: 0 ns\n",
      "Mulai crawling\n"
     ]
    },
    {
     "name": "stderr",
     "output_type": "stream",
     "text": [
      "C:\\Users\\H P\\AppData\\Local\\Temp\\ipykernel_13236\\4107119947.py:11: FutureWarning: content is deprecated, use rawContent instead\n",
      "  tweets.append([tweet.date, tweet.user.username, tweet.content])\n"
     ]
    },
    {
     "name": "stdout",
     "output_type": "stream",
     "text": [
      "Selesai\n"
     ]
    }
   ],
   "source": [
    "query = \"(pendidikan covid) lang:id until:2021-12-05 since:2021-11-01\"\n",
    "tweets = []\n",
    "limit = 1000\n",
    "%time\n",
    "try:\n",
    "    print(\"Mulai crawling\")\n",
    "    for tweet in sntwitter.TwitterSearchScraper(query=query).get_items():\n",
    "        if len(tweets) == limit:\n",
    "            break\n",
    "        else:\n",
    "            tweets.append([tweet.date, tweet.user.username, tweet.content])\n",
    "    df8 = pd.DataFrame(tweets, columns=['date','username','tweet'])\n",
    "except Exception as e:\n",
    "    print(e)\n",
    "    \n",
    "print(\"Selesai\")"
   ]
  },
  {
   "cell_type": "code",
   "execution_count": 22,
   "id": "f441c584",
   "metadata": {},
   "outputs": [],
   "source": [
    "df8\n",
    "df8.to_csv('./SK8.csv', index=False)"
   ]
  },
  {
   "cell_type": "code",
   "execution_count": 23,
   "id": "f367ef89",
   "metadata": {},
   "outputs": [
    {
     "name": "stdout",
     "output_type": "stream",
     "text": [
      "CPU times: total: 0 ns\n",
      "Wall time: 0 ns\n",
      "Mulai crawling\n"
     ]
    },
    {
     "name": "stderr",
     "output_type": "stream",
     "text": [
      "C:\\Users\\H P\\AppData\\Local\\Temp\\ipykernel_13236\\3214799267.py:11: FutureWarning: content is deprecated, use rawContent instead\n",
      "  tweets.append([tweet.date, tweet.user.username, tweet.content])\n"
     ]
    },
    {
     "name": "stdout",
     "output_type": "stream",
     "text": [
      "Selesai\n"
     ]
    }
   ],
   "source": [
    "query = \"(sekolah online covid) lang:id until:2021-12-05 since:2021-11-01\"\n",
    "tweets = []\n",
    "limit = 1000\n",
    "%time\n",
    "try:\n",
    "    print(\"Mulai crawling\")\n",
    "    for tweet in sntwitter.TwitterSearchScraper(query=query).get_items():\n",
    "        if len(tweets) == limit:\n",
    "            break\n",
    "        else:\n",
    "            tweets.append([tweet.date, tweet.user.username, tweet.content])\n",
    "    df9 = pd.DataFrame(tweets, columns=['date','username','tweet'])\n",
    "except Exception as e:\n",
    "    print(e)\n",
    "    \n",
    "print(\"Selesai\")"
   ]
  },
  {
   "cell_type": "code",
   "execution_count": 24,
   "id": "0368e367",
   "metadata": {},
   "outputs": [],
   "source": [
    "df9\n",
    "df9.to_csv('./SK9.csv', index=False)"
   ]
  },
  {
   "cell_type": "code",
   "execution_count": null,
   "id": "9401ab21",
   "metadata": {},
   "outputs": [],
   "source": [
    "query = \"(sekolah online covid) lang:id until:2021-12-05 since:2021-11-01\"\n",
    "tweets = []\n",
    "limit = 1000\n",
    "%time\n",
    "try:\n",
    "    print(\"Mulai crawling\")\n",
    "    for tweet in sntwitter.TwitterSearchScraper(query=query).get_items():\n",
    "        if len(tweets) == limit:\n",
    "            break\n",
    "        else:\n",
    "            tweets.append([tweet.date, tweet.user.username, tweet.content])\n",
    "    df8 = pd.DataFrame(tweets, columns=['date','username','tweet'])\n",
    "except Exception as e:\n",
    "    print(e)\n",
    "    \n",
    "print(\"Selesai\")"
   ]
  },
  {
   "cell_type": "code",
   "execution_count": 4,
   "id": "da936a96",
   "metadata": {},
   "outputs": [],
   "source": [
    "df1\n",
    "df1.to_csv('./SK1.csv', index=False)"
   ]
  },
  {
   "cell_type": "code",
   "execution_count": 25,
   "id": "30e54e00",
   "metadata": {},
   "outputs": [
    {
     "name": "stdout",
     "output_type": "stream",
     "text": [
      "CPU times: total: 0 ns\n",
      "Wall time: 0 ns\n",
      "Mulai crawling\n"
     ]
    },
    {
     "name": "stderr",
     "output_type": "stream",
     "text": [
      "C:\\Users\\H P\\AppData\\Local\\Temp\\ipykernel_13236\\2313045062.py:11: FutureWarning: content is deprecated, use rawContent instead\n",
      "  tweets.append([tweet.date, tweet.user.username, tweet.content])\n"
     ]
    },
    {
     "name": "stdout",
     "output_type": "stream",
     "text": [
      "Selesai\n"
     ]
    }
   ],
   "source": [
    "query = \"(kualitas pendidikan) lang:id until:2021-12-05 since:2021-11-01\"\n",
    "tweets = []\n",
    "limit = 1000\n",
    "%time\n",
    "try:\n",
    "    print(\"Mulai crawling\")\n",
    "    for tweet in sntwitter.TwitterSearchScraper(query=query).get_items():\n",
    "        if len(tweets) == limit:\n",
    "            break\n",
    "        else:\n",
    "            tweets.append([tweet.date, tweet.user.username, tweet.content])\n",
    "    df2 = pd.DataFrame(tweets, columns=['date','username','tweet'])\n",
    "except Exception as e:\n",
    "    print(e)\n",
    "    \n",
    "print(\"Selesai\")"
   ]
  },
  {
   "cell_type": "code",
   "execution_count": 6,
   "id": "a658dd25",
   "metadata": {},
   "outputs": [],
   "source": [
    "df2\n",
    "df2.to_csv('./SK2.csv', index=False)"
   ]
  },
  {
   "cell_type": "code",
   "execution_count": 7,
   "id": "8ce2156a",
   "metadata": {},
   "outputs": [
    {
     "name": "stdout",
     "output_type": "stream",
     "text": [
      "CPU times: total: 0 ns\n",
      "Wall time: 0 ns\n",
      "Mulai crawling\n"
     ]
    },
    {
     "name": "stderr",
     "output_type": "stream",
     "text": [
      "C:\\Users\\H P\\AppData\\Local\\Temp\\ipykernel_2900\\1274682204.py:11: FutureWarning: content is deprecated, use rawContent instead\n",
      "  tweets.append([tweet.date, tweet.user.username, tweet.content])\n"
     ]
    },
    {
     "name": "stdout",
     "output_type": "stream",
     "text": [
      "Selesai\n"
     ]
    }
   ],
   "source": [
    "query = \"(kualitas pendidikan covid) lang:id until:2021-12-05 since:2021-11-01\"\n",
    "tweets = []\n",
    "limit = 1000\n",
    "%time\n",
    "try:\n",
    "    print(\"Mulai crawling\")\n",
    "    for tweet in sntwitter.TwitterSearchScraper(query=query).get_items():\n",
    "        if len(tweets) == limit:\n",
    "            break\n",
    "        else:\n",
    "            tweets.append([tweet.date, tweet.user.username, tweet.content])\n",
    "    df3 = pd.DataFrame(tweets, columns=['date','username','tweet'])\n",
    "except Exception as e:\n",
    "    print(e)\n",
    "    \n",
    "print(\"Selesai\")"
   ]
  },
  {
   "cell_type": "code",
   "execution_count": 8,
   "id": "e9c73361",
   "metadata": {},
   "outputs": [],
   "source": [
    "df3\n",
    "df3.to_csv('./SK3.csv', index=False)"
   ]
  },
  {
   "cell_type": "code",
   "execution_count": 9,
   "id": "242d5ed9",
   "metadata": {},
   "outputs": [
    {
     "name": "stdout",
     "output_type": "stream",
     "text": [
      "CPU times: total: 0 ns\n",
      "Wall time: 0 ns\n",
      "Mulai crawling\n"
     ]
    },
    {
     "name": "stderr",
     "output_type": "stream",
     "text": [
      "C:\\Users\\H P\\AppData\\Local\\Temp\\ipykernel_2900\\3835797077.py:11: FutureWarning: content is deprecated, use rawContent instead\n",
      "  tweets.append([tweet.date, tweet.user.username, tweet.content])\n"
     ]
    },
    {
     "name": "stdout",
     "output_type": "stream",
     "text": [
      "Selesai\n"
     ]
    }
   ],
   "source": [
    "query = \"(kuliah online covid) lang:id until:2021-12-05 since:2021-11-01\"\n",
    "tweets = []\n",
    "limit = 1000\n",
    "%time\n",
    "try:\n",
    "    print(\"Mulai crawling\")\n",
    "    for tweet in sntwitter.TwitterSearchScraper(query=query).get_items():\n",
    "        if len(tweets) == limit:\n",
    "            break\n",
    "        else:\n",
    "            tweets.append([tweet.date, tweet.user.username, tweet.content])\n",
    "    df4 = pd.DataFrame(tweets, columns=['date','username','tweet'])\n",
    "except Exception as e:\n",
    "    print(e)\n",
    "    \n",
    "print(\"Selesai\")"
   ]
  },
  {
   "cell_type": "code",
   "execution_count": 10,
   "id": "f1cc86bf",
   "metadata": {},
   "outputs": [],
   "source": [
    "df4\n",
    "df4.to_csv('./SK4.csv', index=False)"
   ]
  },
  {
   "cell_type": "code",
   "execution_count": 11,
   "id": "c6d56c9f",
   "metadata": {},
   "outputs": [
    {
     "name": "stdout",
     "output_type": "stream",
     "text": [
      "CPU times: total: 0 ns\n",
      "Wall time: 0 ns\n",
      "Mulai crawling\n"
     ]
    },
    {
     "name": "stderr",
     "output_type": "stream",
     "text": [
      "C:\\Users\\H P\\AppData\\Local\\Temp\\ipykernel_2900\\3552100330.py:11: FutureWarning: content is deprecated, use rawContent instead\n",
      "  tweets.append([tweet.date, tweet.user.username, tweet.content])\n"
     ]
    },
    {
     "name": "stdout",
     "output_type": "stream",
     "text": [
      "Selesai\n"
     ]
    }
   ],
   "source": [
    "query = \"(belajar online covid) lang:id until:2021-12-05 since:2021-11-01\"\n",
    "tweets = []\n",
    "limit = 1000\n",
    "%time\n",
    "try:\n",
    "    print(\"Mulai crawling\")\n",
    "    for tweet in sntwitter.TwitterSearchScraper(query=query).get_items():\n",
    "        if len(tweets) == limit:\n",
    "            break\n",
    "        else:\n",
    "            tweets.append([tweet.date, tweet.user.username, tweet.content])\n",
    "    df5 = pd.DataFrame(tweets, columns=['date','username','tweet'])\n",
    "except Exception as e:\n",
    "    print(e)\n",
    "    \n",
    "print(\"Selesai\")"
   ]
  },
  {
   "cell_type": "code",
   "execution_count": 12,
   "id": "d12ac78a",
   "metadata": {},
   "outputs": [],
   "source": [
    "df5\n",
    "df5.to_csv('./SK5.csv', index=False)"
   ]
  },
  {
   "cell_type": "code",
   "execution_count": 13,
   "id": "a417eb3a",
   "metadata": {},
   "outputs": [
    {
     "name": "stdout",
     "output_type": "stream",
     "text": [
      "CPU times: total: 0 ns\n",
      "Wall time: 0 ns\n",
      "Mulai crawling\n"
     ]
    },
    {
     "name": "stderr",
     "output_type": "stream",
     "text": [
      "C:\\Users\\H P\\AppData\\Local\\Temp\\ipykernel_2900\\2091446101.py:11: FutureWarning: content is deprecated, use rawContent instead\n",
      "  tweets.append([tweet.date, tweet.user.username, tweet.content])\n"
     ]
    },
    {
     "name": "stdout",
     "output_type": "stream",
     "text": [
      "Selesai\n"
     ]
    }
   ],
   "source": [
    "query = \"(pembelajaran jarak jauh covid) lang:id until:2021-12-05 since:2021-11-01\"\n",
    "tweets = []\n",
    "limit = 1000\n",
    "%time\n",
    "try:\n",
    "    print(\"Mulai crawling\")\n",
    "    for tweet in sntwitter.TwitterSearchScraper(query=query).get_items():\n",
    "        if len(tweets) == limit:\n",
    "            break\n",
    "        else:\n",
    "            tweets.append([tweet.date, tweet.user.username, tweet.content])\n",
    "    df6 = pd.DataFrame(tweets, columns=['date','username','tweet'])\n",
    "except Exception as e:\n",
    "    print(e)\n",
    "    \n",
    "print(\"Selesai\")"
   ]
  },
  {
   "cell_type": "code",
   "execution_count": 14,
   "id": "fd29e6d7",
   "metadata": {},
   "outputs": [],
   "source": [
    "df6\n",
    "df6.to_csv('./SK6.csv', index=False)"
   ]
  },
  {
   "cell_type": "code",
   "execution_count": 15,
   "id": "81325329",
   "metadata": {},
   "outputs": [
    {
     "data": {
      "text/plain": [
       "['date', 'username', 'tweet']"
      ]
     },
     "execution_count": 15,
     "metadata": {},
     "output_type": "execute_result"
    }
   ],
   "source": [
    "#read csv file\n",
    "dataset1=pd.read_csv(\"SK1.csv\")\n",
    "dataset2=pd.read_csv(\"SK2.csv\")\n",
    "dataset3=pd.read_csv(\"SK3.csv\")\n",
    "dataset4=pd.read_csv(\"SK4.csv\")\n",
    "dataset5=pd.read_csv(\"SK5.csv\")\n",
    "dataset6=pd.read_csv(\"SK6.csv\")\n",
    "#data integration\n",
    "df= pd.concat([dataset1,dataset2,dataset3,dataset4,dataset5,dataset6], sort=False)\n",
    "list(df.columns)"
   ]
  },
  {
   "cell_type": "code",
   "execution_count": 16,
   "id": "eace2611",
   "metadata": {},
   "outputs": [
    {
     "data": {
      "text/html": [
       "<div>\n",
       "<style scoped>\n",
       "    .dataframe tbody tr th:only-of-type {\n",
       "        vertical-align: middle;\n",
       "    }\n",
       "\n",
       "    .dataframe tbody tr th {\n",
       "        vertical-align: top;\n",
       "    }\n",
       "\n",
       "    .dataframe thead th {\n",
       "        text-align: right;\n",
       "    }\n",
       "</style>\n",
       "<table border=\"1\" class=\"dataframe\">\n",
       "  <thead>\n",
       "    <tr style=\"text-align: right;\">\n",
       "      <th></th>\n",
       "      <th>date</th>\n",
       "      <th>username</th>\n",
       "      <th>tweet</th>\n",
       "    </tr>\n",
       "  </thead>\n",
       "  <tbody>\n",
       "    <tr>\n",
       "      <th>608</th>\n",
       "      <td>2021-11-10 02:15:14+00:00</td>\n",
       "      <td>luqikhoiriyah</td>\n",
       "      <td>😱Kejadian apalagi di dunia pendidikan?\\n\\nPendidikan sbg salah satu jalan untuk meningkatkan kualitas sumberdaya manusia Indonesia.\\n\\nJalankan hukum adil-tak memihak. \\n#LindungiMahasiswa\\n#KampusSehatBermartabat\\n\\nAturan Mendikbudristek, Masak Legalkan Zina? https://t.co/zoD1Bs92yr</td>\n",
       "    </tr>\n",
       "    <tr>\n",
       "      <th>467</th>\n",
       "      <td>2021-11-17 07:47:39+00:00</td>\n",
       "      <td>jabarekspres</td>\n",
       "      <td>Program “Guru Penggerak” Diharapkan Bisa Perbaiki Kualitas Pendidikan di KBB https://t.co/0aQWAQfQsM</td>\n",
       "    </tr>\n",
       "    <tr>\n",
       "      <th>22</th>\n",
       "      <td>2021-11-11 12:03:41+00:00</td>\n",
       "      <td>aerdafiena</td>\n",
       "      <td>belajar maths online tak pernah faham satu pun, bukak sekolah cikgu terangkan balik dengan cara yang paling paling simple terus faham. nampak tak??? bak kata qashrina \"ce kalau covid ni tak wujud aku rasa mesti kita ni pandai\"</td>\n",
       "    </tr>\n",
       "    <tr>\n",
       "      <th>384</th>\n",
       "      <td>2021-11-22 00:51:53+00:00</td>\n",
       "      <td>tambarmalem111</td>\n",
       "      <td>@republikaonline Hanya orang berwawasan katak dalam tempurung maka, menyalahkan hujan dsbnya tetapi kualitas kerjanya pendidikan terlalu arogansi 🤔 https://t.co/nRKoLqaNvC</td>\n",
       "    </tr>\n",
       "    <tr>\n",
       "      <th>540</th>\n",
       "      <td>2021-11-14 04:33:55+00:00</td>\n",
       "      <td>tambarmalem111</td>\n",
       "      <td>@OposisiCerdas Sabotase alias toxic jenius tahun ke tahun 24 jam nonstop Minggu ke Minggu kualitas kerjanya pendidikan politik tahun KERBAU zodiak cancer riba alias 👎👎👎 https://t.co/4tYgR21Vvk</td>\n",
       "    </tr>\n",
       "  </tbody>\n",
       "</table>\n",
       "</div>"
      ],
      "text/plain": [
       "                          date        username  \\\n",
       "608  2021-11-10 02:15:14+00:00   luqikhoiriyah   \n",
       "467  2021-11-17 07:47:39+00:00    jabarekspres   \n",
       "22   2021-11-11 12:03:41+00:00      aerdafiena   \n",
       "384  2021-11-22 00:51:53+00:00  tambarmalem111   \n",
       "540  2021-11-14 04:33:55+00:00  tambarmalem111   \n",
       "\n",
       "                                                                                                                                                                                                                                                                                             tweet  \n",
       "608  😱Kejadian apalagi di dunia pendidikan?\\n\\nPendidikan sbg salah satu jalan untuk meningkatkan kualitas sumberdaya manusia Indonesia.\\n\\nJalankan hukum adil-tak memihak. \\n#LindungiMahasiswa\\n#KampusSehatBermartabat\\n\\nAturan Mendikbudristek, Masak Legalkan Zina? https://t.co/zoD1Bs92yr  \n",
       "467                                                                                                                                                                                           Program “Guru Penggerak” Diharapkan Bisa Perbaiki Kualitas Pendidikan di KBB https://t.co/0aQWAQfQsM  \n",
       "22                                                              belajar maths online tak pernah faham satu pun, bukak sekolah cikgu terangkan balik dengan cara yang paling paling simple terus faham. nampak tak??? bak kata qashrina \"ce kalau covid ni tak wujud aku rasa mesti kita ni pandai\"  \n",
       "384                                                                                                                    @republikaonline Hanya orang berwawasan katak dalam tempurung maka, menyalahkan hujan dsbnya tetapi kualitas kerjanya pendidikan terlalu arogansi 🤔 https://t.co/nRKoLqaNvC  \n",
       "540                                                                                               @OposisiCerdas Sabotase alias toxic jenius tahun ke tahun 24 jam nonstop Minggu ke Minggu kualitas kerjanya pendidikan politik tahun KERBAU zodiak cancer riba alias 👎👎👎 https://t.co/4tYgR21Vvk  "
      ]
     },
     "execution_count": 16,
     "metadata": {},
     "output_type": "execute_result"
    }
   ],
   "source": [
    "df.sample(n=5)"
   ]
  },
  {
   "cell_type": "code",
   "execution_count": 17,
   "id": "00cd8b6b",
   "metadata": {},
   "outputs": [],
   "source": [
    "df.to_csv('./FIX-SK.csv', index=False)"
   ]
  },
  {
   "cell_type": "code",
   "execution_count": 26,
   "id": "efcf494e",
   "metadata": {},
   "outputs": [
    {
     "data": {
      "text/plain": [
       "['date', 'username', 'tweet']"
      ]
     },
     "execution_count": 26,
     "metadata": {},
     "output_type": "execute_result"
    }
   ],
   "source": [
    "#read csv file\n",
    "datasetSK1=pd.read_csv(\"FIX-SK.csv\")\n",
    "dataset7=pd.read_csv(\"SK7.csv\")\n",
    "dataset8=pd.read_csv(\"SK8.csv\")\n",
    "dataset9=pd.read_csv(\"SK9.csv\")\n",
    "\n",
    "#data integration\n",
    "df= pd.concat([datasetSK1,dataset7,dataset8,dataset9], sort=False)\n",
    "list(df.columns)"
   ]
  },
  {
   "cell_type": "code",
   "execution_count": 27,
   "id": "710f7c80",
   "metadata": {},
   "outputs": [
    {
     "data": {
      "text/html": [
       "<div>\n",
       "<style scoped>\n",
       "    .dataframe tbody tr th:only-of-type {\n",
       "        vertical-align: middle;\n",
       "    }\n",
       "\n",
       "    .dataframe tbody tr th {\n",
       "        vertical-align: top;\n",
       "    }\n",
       "\n",
       "    .dataframe thead th {\n",
       "        text-align: right;\n",
       "    }\n",
       "</style>\n",
       "<table border=\"1\" class=\"dataframe\">\n",
       "  <thead>\n",
       "    <tr style=\"text-align: right;\">\n",
       "      <th></th>\n",
       "      <th>date</th>\n",
       "      <th>username</th>\n",
       "      <th>tweet</th>\n",
       "    </tr>\n",
       "  </thead>\n",
       "  <tbody>\n",
       "    <tr>\n",
       "      <th>0</th>\n",
       "      <td>2021-12-04 08:06:34+00:00</td>\n",
       "      <td>GabriellaFanta</td>\n",
       "      <td>@aLy_Bima 3T(Triliun) kenyang tuh ...\\nalasan Covid-19\\nkurikulum HP\\nsejak Paud sekolah Online\\ntokoh² Korea, China, Usa\\nsemua ada di HP\\n\\nrekayasa luar biasa, menghancur leburkan generasi penerus bangsa, semuanya habis.\\nsiapa yang bertanggung jawab !!?\\nhati² fitnah Dajjal.</td>\n",
       "    </tr>\n",
       "    <tr>\n",
       "      <th>1</th>\n",
       "      <td>2021-12-04 04:41:38+00:00</td>\n",
       "      <td>kosmo_online</td>\n",
       "      <td>Harap pihak sekolah tidak menyorokkan kes covid-19. https://t.co/1eMg3mOFZ5</td>\n",
       "    </tr>\n",
       "    <tr>\n",
       "      <th>2</th>\n",
       "      <td>2021-12-03 16:31:02+00:00</td>\n",
       "      <td>kayarayaaaaa</td>\n",
       "      <td>Sebelum covid, pak anies malah ngijinin kelas bahasa isyarat di balaikota, yang diadain sama pusbisindo. \\n\\nSemenjak beliau ngumumin sekolah libur karena covid, dah kita semua ikut kelas online wkwk</td>\n",
       "    </tr>\n",
       "    <tr>\n",
       "      <th>3</th>\n",
       "      <td>2021-12-02 23:25:47+00:00</td>\n",
       "      <td>Bangsaku2006</td>\n",
       "      <td>@MarhaenNews @Khairykj Entah lah what were they thinking??? Apa tujuan buka sekolah untuk timba ilmu tapi bila dah kena covid, ilmu pun dah tak berguna hanya fikirkan nyawa saja.  Kalau online study, ilmu pun dapat nyawa pun selamat.  Kita perlu sabar sehingga the kes betul2 turun…</td>\n",
       "    </tr>\n",
       "    <tr>\n",
       "      <th>4</th>\n",
       "      <td>2021-12-01 16:45:28+00:00</td>\n",
       "      <td>hisyamghazali91</td>\n",
       "      <td>Rasanya dah sampai masa cikgu cikgu pula yang kena buat saringan covid berkala esp sekolah asrama. Sebab? Cikgu keluar masuk. Budak kekal dalam asrama. Kena semak semula SOP. Mudahkan juga sistem BDR &amp;amp; Online class kpd murid &amp;amp; guru bergejala di sekolah harian</td>\n",
       "    </tr>\n",
       "    <tr>\n",
       "      <th>...</th>\n",
       "      <td>...</td>\n",
       "      <td>...</td>\n",
       "      <td>...</td>\n",
       "    </tr>\n",
       "    <tr>\n",
       "      <th>32</th>\n",
       "      <td>2021-11-07 15:49:14+00:00</td>\n",
       "      <td>pakulakang_</td>\n",
       "      <td>@ndraaskszxr Sistem ulangannya gmn sih? Masih online dirumah atau udh di sekolah?? Sorry bnyak tanya gw bkn generasi covid soalnya wkwk</td>\n",
       "    </tr>\n",
       "    <tr>\n",
       "      <th>33</th>\n",
       "      <td>2021-11-07 14:33:00+00:00</td>\n",
       "      <td>acuwie</td>\n",
       "      <td>Sekolah gue online lagi ampe semester depan soalnya SMKN deket sekolah gue ada yg covid</td>\n",
       "    </tr>\n",
       "    <tr>\n",
       "      <th>34</th>\n",
       "      <td>2021-11-07 12:53:30+00:00</td>\n",
       "      <td>ondujewu</td>\n",
       "      <td>@convomf sebelum covid, aku bisa ngobrol sm temen pake topik apapun. setahun bljr online, pas masuk offline aku suka ngerasa diriku freak bgt, apalagi abis ngobrol sama temen, kayak \"td aku keknya lebay bgt\" \"aku td sok asik ya?\" setiap mau ke sekolah gugup terus, takut</td>\n",
       "    </tr>\n",
       "    <tr>\n",
       "      <th>35</th>\n",
       "      <td>2021-11-05 11:19:10+00:00</td>\n",
       "      <td>Adiesuryo1</td>\n",
       "      <td>Sudah berjalan satu setengah tahun lebih pandemi Covid hadir, dan sudah 2 semester aku melakukan sekolah online yang selalu membosankan.\\n\\nSudah terlalu lama aku terdiam di rumah dan melakukan sesuatu kegiatan yang sama.</td>\n",
       "    </tr>\n",
       "    <tr>\n",
       "      <th>36</th>\n",
       "      <td>2021-11-02 02:09:40+00:00</td>\n",
       "      <td>plushyruru</td>\n",
       "      <td>di sekolah gue ada 5 anak yg positif covid, online lagi deh sekolahnya WKWKW</td>\n",
       "    </tr>\n",
       "  </tbody>\n",
       "</table>\n",
       "<p>2130 rows × 3 columns</p>\n",
       "</div>"
      ],
      "text/plain": [
       "                         date         username  \\\n",
       "0   2021-12-04 08:06:34+00:00   GabriellaFanta   \n",
       "1   2021-12-04 04:41:38+00:00     kosmo_online   \n",
       "2   2021-12-03 16:31:02+00:00     kayarayaaaaa   \n",
       "3   2021-12-02 23:25:47+00:00     Bangsaku2006   \n",
       "4   2021-12-01 16:45:28+00:00  hisyamghazali91   \n",
       "..                        ...              ...   \n",
       "32  2021-11-07 15:49:14+00:00      pakulakang_   \n",
       "33  2021-11-07 14:33:00+00:00           acuwie   \n",
       "34  2021-11-07 12:53:30+00:00         ondujewu   \n",
       "35  2021-11-05 11:19:10+00:00       Adiesuryo1   \n",
       "36  2021-11-02 02:09:40+00:00       plushyruru   \n",
       "\n",
       "                                                                                                                                                                                                                                                                                         tweet  \n",
       "0      @aLy_Bima 3T(Triliun) kenyang tuh ...\\nalasan Covid-19\\nkurikulum HP\\nsejak Paud sekolah Online\\ntokoh² Korea, China, Usa\\nsemua ada di HP\\n\\nrekayasa luar biasa, menghancur leburkan generasi penerus bangsa, semuanya habis.\\nsiapa yang bertanggung jawab !!?\\nhati² fitnah Dajjal.  \n",
       "1                                                                                                                                                                                                                  Harap pihak sekolah tidak menyorokkan kes covid-19. https://t.co/1eMg3mOFZ5  \n",
       "2                                                                                      Sebelum covid, pak anies malah ngijinin kelas bahasa isyarat di balaikota, yang diadain sama pusbisindo. \\n\\nSemenjak beliau ngumumin sekolah libur karena covid, dah kita semua ikut kelas online wkwk  \n",
       "3   @MarhaenNews @Khairykj Entah lah what were they thinking??? Apa tujuan buka sekolah untuk timba ilmu tapi bila dah kena covid, ilmu pun dah tak berguna hanya fikirkan nyawa saja.  Kalau online study, ilmu pun dapat nyawa pun selamat.  Kita perlu sabar sehingga the kes betul2 turun…  \n",
       "4                  Rasanya dah sampai masa cikgu cikgu pula yang kena buat saringan covid berkala esp sekolah asrama. Sebab? Cikgu keluar masuk. Budak kekal dalam asrama. Kena semak semula SOP. Mudahkan juga sistem BDR &amp; Online class kpd murid &amp; guru bergejala di sekolah harian  \n",
       "..                                                                                                                                                                                                                                                                                         ...  \n",
       "32                                                                                                                                                     @ndraaskszxr Sistem ulangannya gmn sih? Masih online dirumah atau udh di sekolah?? Sorry bnyak tanya gw bkn generasi covid soalnya wkwk  \n",
       "33                                                                                                                                                                                                     Sekolah gue online lagi ampe semester depan soalnya SMKN deket sekolah gue ada yg covid  \n",
       "34              @convomf sebelum covid, aku bisa ngobrol sm temen pake topik apapun. setahun bljr online, pas masuk offline aku suka ngerasa diriku freak bgt, apalagi abis ngobrol sama temen, kayak \"td aku keknya lebay bgt\" \"aku td sok asik ya?\" setiap mau ke sekolah gugup terus, takut  \n",
       "35                                                               Sudah berjalan satu setengah tahun lebih pandemi Covid hadir, dan sudah 2 semester aku melakukan sekolah online yang selalu membosankan.\\n\\nSudah terlalu lama aku terdiam di rumah dan melakukan sesuatu kegiatan yang sama.  \n",
       "36                                                                                                                                                                                                                di sekolah gue ada 5 anak yg positif covid, online lagi deh sekolahnya WKWKW  \n",
       "\n",
       "[2130 rows x 3 columns]"
      ]
     },
     "execution_count": 27,
     "metadata": {},
     "output_type": "execute_result"
    }
   ],
   "source": [
    "df"
   ]
  },
  {
   "cell_type": "code",
   "execution_count": 28,
   "id": "81b8d0d5",
   "metadata": {},
   "outputs": [],
   "source": [
    "df.to_csv('./FIX2023-SK.csv', index=False)"
   ]
  },
  {
   "cell_type": "code",
   "execution_count": null,
   "id": "25d6c096",
   "metadata": {},
   "outputs": [],
   "source": []
  }
 ],
 "metadata": {
  "kernelspec": {
   "display_name": "Python 3 (ipykernel)",
   "language": "python",
   "name": "python3"
  },
  "language_info": {
   "codemirror_mode": {
    "name": "ipython",
    "version": 3
   },
   "file_extension": ".py",
   "mimetype": "text/x-python",
   "name": "python",
   "nbconvert_exporter": "python",
   "pygments_lexer": "ipython3",
   "version": "3.9.12"
  }
 },
 "nbformat": 4,
 "nbformat_minor": 5
}
